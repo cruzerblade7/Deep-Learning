{
 "cells": [
  {
   "cell_type": "code",
   "execution_count": 1,
   "metadata": {},
   "outputs": [],
   "source": [
    "import numpy as np \n",
    "import pandas as pd \n",
    "import matplotlib.pyplot as plt \n",
    "from sklearn.utils import shuffle\n",
    "\n",
    "import tensorflow as tf \n",
    "from tensorflow.keras.layers import Input, Dense, Embedding, Flatten, Concatenate\n",
    "from tensorflow.keras.models import Model \n",
    "from tensorflow.keras.optimizers import Adam, SGD"
   ]
  },
  {
   "cell_type": "code",
   "execution_count": 2,
   "metadata": {},
   "outputs": [
    {
     "data": {
      "text/html": [
       "<div>\n",
       "<style scoped>\n",
       "    .dataframe tbody tr th:only-of-type {\n",
       "        vertical-align: middle;\n",
       "    }\n",
       "\n",
       "    .dataframe tbody tr th {\n",
       "        vertical-align: top;\n",
       "    }\n",
       "\n",
       "    .dataframe thead th {\n",
       "        text-align: right;\n",
       "    }\n",
       "</style>\n",
       "<table border=\"1\" class=\"dataframe\">\n",
       "  <thead>\n",
       "    <tr style=\"text-align: right;\">\n",
       "      <th></th>\n",
       "      <th>userId</th>\n",
       "      <th>movieId</th>\n",
       "      <th>rating</th>\n",
       "      <th>timestamp</th>\n",
       "    </tr>\n",
       "  </thead>\n",
       "  <tbody>\n",
       "    <tr>\n",
       "      <th>0</th>\n",
       "      <td>1</td>\n",
       "      <td>2</td>\n",
       "      <td>3.5</td>\n",
       "      <td>1112486027</td>\n",
       "    </tr>\n",
       "    <tr>\n",
       "      <th>1</th>\n",
       "      <td>1</td>\n",
       "      <td>29</td>\n",
       "      <td>3.5</td>\n",
       "      <td>1112484676</td>\n",
       "    </tr>\n",
       "    <tr>\n",
       "      <th>2</th>\n",
       "      <td>1</td>\n",
       "      <td>32</td>\n",
       "      <td>3.5</td>\n",
       "      <td>1112484819</td>\n",
       "    </tr>\n",
       "    <tr>\n",
       "      <th>3</th>\n",
       "      <td>1</td>\n",
       "      <td>47</td>\n",
       "      <td>3.5</td>\n",
       "      <td>1112484727</td>\n",
       "    </tr>\n",
       "    <tr>\n",
       "      <th>4</th>\n",
       "      <td>1</td>\n",
       "      <td>50</td>\n",
       "      <td>3.5</td>\n",
       "      <td>1112484580</td>\n",
       "    </tr>\n",
       "  </tbody>\n",
       "</table>\n",
       "</div>"
      ],
      "text/plain": [
       "   userId  movieId  rating   timestamp\n",
       "0       1        2     3.5  1112486027\n",
       "1       1       29     3.5  1112484676\n",
       "2       1       32     3.5  1112484819\n",
       "3       1       47     3.5  1112484727\n",
       "4       1       50     3.5  1112484580"
      ]
     },
     "execution_count": 2,
     "metadata": {},
     "output_type": "execute_result"
    }
   ],
   "source": [
    "#Dataset from: http://files.grouplens.org/datasets/movielens/ml-20m.zip\n",
    "df = pd.read_csv('ml-20m/ratings.csv')\n",
    "df.head()"
   ]
  },
  {
   "cell_type": "code",
   "execution_count": 3,
   "metadata": {},
   "outputs": [
    {
     "data": {
      "text/html": [
       "<div>\n",
       "<style scoped>\n",
       "    .dataframe tbody tr th:only-of-type {\n",
       "        vertical-align: middle;\n",
       "    }\n",
       "\n",
       "    .dataframe tbody tr th {\n",
       "        vertical-align: top;\n",
       "    }\n",
       "\n",
       "    .dataframe thead th {\n",
       "        text-align: right;\n",
       "    }\n",
       "</style>\n",
       "<table border=\"1\" class=\"dataframe\">\n",
       "  <thead>\n",
       "    <tr style=\"text-align: right;\">\n",
       "      <th></th>\n",
       "      <th>userId</th>\n",
       "      <th>movieId</th>\n",
       "      <th>rating</th>\n",
       "      <th>timestamp</th>\n",
       "      <th>new_user_id</th>\n",
       "      <th>new_movie_id</th>\n",
       "    </tr>\n",
       "  </thead>\n",
       "  <tbody>\n",
       "    <tr>\n",
       "      <th>0</th>\n",
       "      <td>1</td>\n",
       "      <td>2</td>\n",
       "      <td>3.5</td>\n",
       "      <td>1112486027</td>\n",
       "      <td>0</td>\n",
       "      <td>1</td>\n",
       "    </tr>\n",
       "    <tr>\n",
       "      <th>1</th>\n",
       "      <td>1</td>\n",
       "      <td>29</td>\n",
       "      <td>3.5</td>\n",
       "      <td>1112484676</td>\n",
       "      <td>0</td>\n",
       "      <td>28</td>\n",
       "    </tr>\n",
       "    <tr>\n",
       "      <th>2</th>\n",
       "      <td>1</td>\n",
       "      <td>32</td>\n",
       "      <td>3.5</td>\n",
       "      <td>1112484819</td>\n",
       "      <td>0</td>\n",
       "      <td>31</td>\n",
       "    </tr>\n",
       "    <tr>\n",
       "      <th>3</th>\n",
       "      <td>1</td>\n",
       "      <td>47</td>\n",
       "      <td>3.5</td>\n",
       "      <td>1112484727</td>\n",
       "      <td>0</td>\n",
       "      <td>46</td>\n",
       "    </tr>\n",
       "    <tr>\n",
       "      <th>4</th>\n",
       "      <td>1</td>\n",
       "      <td>50</td>\n",
       "      <td>3.5</td>\n",
       "      <td>1112484580</td>\n",
       "      <td>0</td>\n",
       "      <td>49</td>\n",
       "    </tr>\n",
       "  </tbody>\n",
       "</table>\n",
       "</div>"
      ],
      "text/plain": [
       "  userId movieId  rating   timestamp  new_user_id  new_movie_id\n",
       "0      1       2     3.5  1112486027            0             1\n",
       "1      1      29     3.5  1112484676            0            28\n",
       "2      1      32     3.5  1112484819            0            31\n",
       "3      1      47     3.5  1112484727            0            46\n",
       "4      1      50     3.5  1112484580            0            49"
      ]
     },
     "execution_count": 3,
     "metadata": {},
     "output_type": "execute_result"
    }
   ],
   "source": [
    "#Assigning integer encodings to userId and movieId(since we're going to be using embeddings)\n",
    "df.userId = pd.Categorical(df.userId)\n",
    "df['new_user_id'] = df.userId.cat.codes\n",
    "df.movieId = pd.Categorical(df.movieId)\n",
    "df['new_movie_id'] = df.movieId.cat.codes\n",
    "df.head()"
   ]
  },
  {
   "cell_type": "code",
   "execution_count": 5,
   "metadata": {},
   "outputs": [],
   "source": [
    "user_ids = df['new_user_id'].to_numpy()\n",
    "movie_ids = df['new_movie_id'].to_numpy()\n",
    "ratings = df['rating'].to_numpy()"
   ]
  },
  {
   "cell_type": "code",
   "execution_count": 6,
   "metadata": {},
   "outputs": [],
   "source": [
    "N = len(set(user_ids))\n",
    "M = len(set(movie_ids))\n",
    "K = 10 #Embedding dimension"
   ]
  },
  {
   "cell_type": "code",
   "execution_count": 7,
   "metadata": {},
   "outputs": [],
   "source": [
    "#User input:\n",
    "u = Input(shape = (1,))\n",
    "#Movie input:\n",
    "m = Input(shape = (1,))\n",
    "#User embedding:\n",
    "u_emb = Embedding(N, K)(u)\n",
    "#Movie embedding:\n",
    "m_emb = Embedding(M, K)(m)\n",
    "#Output of embeddings is NxTxK, here T = 1, so Nx1xD. We flatten this to NxK\n",
    "u_emb = Flatten()(u_emb)\n",
    "m_emb = Flatten()(m_emb)\n",
    "#Concat user-movie embeddings to a feature vector\n",
    "x = Concatenate()([u_emb, m_emb]) #Output is Nx2K\n",
    "x = Dense(1024, activation = 'relu')(x)\n",
    "x = Dense(1)(x)\n",
    "\n",
    "model = Model(inputs = [u, m], outputs = x)"
   ]
  },
  {
   "cell_type": "code",
   "execution_count": 8,
   "metadata": {},
   "outputs": [],
   "source": [
    "model.compile(\n",
    "    loss = 'mse',\n",
    "    optimizer = SGD(learning_rate = 0.08, momentum = 0.9)\n",
    ")"
   ]
  },
  {
   "cell_type": "code",
   "execution_count": 9,
   "metadata": {},
   "outputs": [],
   "source": [
    "#Split the data:\n",
    "user_ids, movie_ids, ratings = shuffle(user_ids, movie_ids, ratings) #Shuffles data from arrays randomly but correspondingly.\n",
    "Ntrain = int(0.8 * len(ratings))\n",
    "train_user = user_ids[:Ntrain]\n",
    "train_movie = movie_ids[:Ntrain]\n",
    "train_ratings = ratings[:Ntrain]\n",
    "\n",
    "test_user = user_ids[Ntrain:]\n",
    "test_movie = movie_ids[Ntrain:]\n",
    "test_ratings = ratings[Ntrain:]\n",
    "\n",
    "#Centre the ratings:\n",
    "avg_rating = train_ratings.mean()\n",
    "train_ratings = train_ratings - avg_rating\n",
    "test_ratings = test_ratings - avg_rating\n",
    "#If you want to scale ratings with std deviation, mse loss will change, so comparison with other techniques would require you to scale back the data."
   ]
  },
  {
   "cell_type": "code",
   "execution_count": 11,
   "metadata": {},
   "outputs": [
    {
     "name": "stdout",
     "output_type": "stream",
     "text": [
      "Epoch 1/25\n",
      "15626/15626 - 68s - loss: 0.7773 - val_loss: 0.7248 - 68s/epoch - 4ms/step\n",
      "Epoch 2/25\n",
      "15626/15626 - 65s - loss: 0.7010 - val_loss: 0.6971 - 65s/epoch - 4ms/step\n",
      "Epoch 3/25\n",
      "15626/15626 - 65s - loss: 0.6778 - val_loss: 0.6835 - 65s/epoch - 4ms/step\n",
      "Epoch 4/25\n",
      "15626/15626 - 66s - loss: 0.6624 - val_loss: 0.6793 - 66s/epoch - 4ms/step\n",
      "Epoch 5/25\n",
      "15626/15626 - 65s - loss: 0.6514 - val_loss: 0.6711 - 65s/epoch - 4ms/step\n",
      "Epoch 6/25\n",
      "15626/15626 - 65s - loss: 0.6397 - val_loss: 0.6643 - 65s/epoch - 4ms/step\n",
      "Epoch 7/25\n",
      "15626/15626 - 65s - loss: 0.6259 - val_loss: 0.6500 - 65s/epoch - 4ms/step\n",
      "Epoch 8/25\n",
      "15626/15626 - 65s - loss: 0.6109 - val_loss: 0.6442 - 65s/epoch - 4ms/step\n",
      "Epoch 9/25\n",
      "15626/15626 - 67s - loss: 0.6002 - val_loss: 0.6401 - 67s/epoch - 4ms/step\n",
      "Epoch 10/25\n",
      "15626/15626 - 65s - loss: 0.5912 - val_loss: 0.6361 - 65s/epoch - 4ms/step\n",
      "Epoch 11/25\n",
      "15626/15626 - 65s - loss: 0.5832 - val_loss: 0.6363 - 65s/epoch - 4ms/step\n",
      "Epoch 12/25\n",
      "15626/15626 - 65s - loss: 0.5758 - val_loss: 0.6340 - 65s/epoch - 4ms/step\n",
      "Epoch 13/25\n",
      "15626/15626 - 73s - loss: 0.5693 - val_loss: 0.6296 - 73s/epoch - 5ms/step\n",
      "Epoch 14/25\n",
      "15626/15626 - 71s - loss: 0.5635 - val_loss: 0.6289 - 71s/epoch - 5ms/step\n",
      "Epoch 15/25\n",
      "15626/15626 - 66s - loss: 0.5586 - val_loss: 0.6282 - 66s/epoch - 4ms/step\n",
      "Epoch 16/25\n",
      "15626/15626 - 66s - loss: 0.5543 - val_loss: 0.6279 - 66s/epoch - 4ms/step\n",
      "Epoch 17/25\n",
      "15626/15626 - 66s - loss: 0.5505 - val_loss: 0.6278 - 66s/epoch - 4ms/step\n",
      "Epoch 18/25\n",
      "15626/15626 - 65s - loss: 0.5473 - val_loss: 0.6266 - 65s/epoch - 4ms/step\n",
      "Epoch 19/25\n",
      "15626/15626 - 65s - loss: 0.5444 - val_loss: 0.6260 - 65s/epoch - 4ms/step\n",
      "Epoch 20/25\n",
      "15626/15626 - 65s - loss: 0.5419 - val_loss: 0.6282 - 65s/epoch - 4ms/step\n",
      "Epoch 21/25\n",
      "15626/15626 - 65s - loss: 0.5397 - val_loss: 0.6262 - 65s/epoch - 4ms/step\n",
      "Epoch 22/25\n",
      "15626/15626 - 65s - loss: 0.5376 - val_loss: 0.6276 - 65s/epoch - 4ms/step\n",
      "Epoch 23/25\n",
      "15626/15626 - 66s - loss: 0.5357 - val_loss: 0.6280 - 66s/epoch - 4ms/step\n",
      "Epoch 24/25\n",
      "15626/15626 - 65s - loss: 0.5341 - val_loss: 0.6269 - 65s/epoch - 4ms/step\n",
      "Epoch 25/25\n",
      "15626/15626 - 65s - loss: 0.5326 - val_loss: 0.6319 - 65s/epoch - 4ms/step\n"
     ]
    }
   ],
   "source": [
    "r = model.fit(\n",
    "    x = [train_user, train_movie],\n",
    "    y = train_ratings,\n",
    "    epochs = 25,\n",
    "    batch_size = 1024,\n",
    "    verbose = 2,\n",
    "    validation_data = ([test_user, test_movie], test_ratings)\n",
    ")"
   ]
  },
  {
   "cell_type": "code",
   "execution_count": 12,
   "metadata": {},
   "outputs": [
    {
     "data": {
      "image/png": "[encoded data removed]",
      "text/plain": [
       "<Figure size 640x480 with 1 Axes>"
      ]
     },
     "metadata": {},
     "output_type": "display_data"
    }
   ],
   "source": [
    "#Benchmark shows that results are on par with other approaches(https://datascience.stackexchange.com/questions/29740/benchmark-result-for-movielens-dataset)\n",
    "plt.plot(r.history['loss'], label = 'train_loss')\n",
    "plt.plot(r.history['val_loss'], label = 'val_loss')\n",
    "plt.legend()\n",
    "plt.show()"
   ]
  }
 ],
 "metadata": {
  "kernelspec": {
   "display_name": "tf2.10",
   "language": "python",
   "name": "python3"
  },
  "language_info": {
   "codemirror_mode": {
    "name": "ipython",
    "version": 3
   },
   "file_extension": ".py",
   "mimetype": "text/x-python",
   "name": "python",
   "nbconvert_exporter": "python",
   "pygments_lexer": "ipython3",
   "version": "3.10.6 | packaged by conda-forge | (main, Oct 24 2022, 16:02:16) [MSC v.1916 64 bit (AMD64)]"
  },
  "orig_nbformat": 4,
  "vscode": {
   "interpreter": {
    "hash": "06c95289d41b59e30f1db6f5292b702da8bd0e9fc7b63eab59a8cbe97d3e62c0"
   }
  }
 },
 "nbformat": 4,
 "nbformat_minor": 2
}
